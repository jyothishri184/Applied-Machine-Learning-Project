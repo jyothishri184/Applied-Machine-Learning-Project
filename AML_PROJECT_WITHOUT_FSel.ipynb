{
 "cells": [
  {
   "cell_type": "code",
   "execution_count": 85,
   "id": "b7a2336b",
   "metadata": {},
   "outputs": [
    {
     "data": {
      "text/html": [
       "<div>\n",
       "<style scoped>\n",
       "    .dataframe tbody tr th:only-of-type {\n",
       "        vertical-align: middle;\n",
       "    }\n",
       "\n",
       "    .dataframe tbody tr th {\n",
       "        vertical-align: top;\n",
       "    }\n",
       "\n",
       "    .dataframe thead th {\n",
       "        text-align: right;\n",
       "    }\n",
       "</style>\n",
       "<table border=\"1\" class=\"dataframe\">\n",
       "  <thead>\n",
       "    <tr style=\"text-align: right;\">\n",
       "      <th></th>\n",
       "      <th>FP1_power_delta</th>\n",
       "      <th>FP1_power_theta</th>\n",
       "      <th>FP1_power_alpha</th>\n",
       "      <th>FP1_power_beta</th>\n",
       "      <th>FP1_power_gamma</th>\n",
       "      <th>FP2_power_delta</th>\n",
       "      <th>FP2_power_theta</th>\n",
       "      <th>FP2_power_alpha</th>\n",
       "      <th>FP2_power_beta</th>\n",
       "      <th>FP2_power_gamma</th>\n",
       "      <th>...</th>\n",
       "      <th>T5_STD_D4</th>\n",
       "      <th>T5_STD_D5</th>\n",
       "      <th>T5_STD_D6</th>\n",
       "      <th>T6_STD_D1</th>\n",
       "      <th>T6_STD_D2</th>\n",
       "      <th>T6_STD_D3</th>\n",
       "      <th>T6_STD_D4</th>\n",
       "      <th>T6_STD_D5</th>\n",
       "      <th>T6_STD_D6</th>\n",
       "      <th>epileptic_</th>\n",
       "    </tr>\n",
       "  </thead>\n",
       "  <tbody>\n",
       "    <tr>\n",
       "      <th>0</th>\n",
       "      <td>15.980332</td>\n",
       "      <td>8.633358</td>\n",
       "      <td>3.092433</td>\n",
       "      <td>0.846559</td>\n",
       "      <td>0.372832</td>\n",
       "      <td>17.581626</td>\n",
       "      <td>9.937238</td>\n",
       "      <td>3.485713</td>\n",
       "      <td>0.945396</td>\n",
       "      <td>0.428797</td>\n",
       "      <td>...</td>\n",
       "      <td>31.427918</td>\n",
       "      <td>29.699413</td>\n",
       "      <td>32.013546</td>\n",
       "      <td>3.583559</td>\n",
       "      <td>12.529528</td>\n",
       "      <td>45.831132</td>\n",
       "      <td>61.890813</td>\n",
       "      <td>34.783454</td>\n",
       "      <td>33.245906</td>\n",
       "      <td>1</td>\n",
       "    </tr>\n",
       "    <tr>\n",
       "      <th>1</th>\n",
       "      <td>223.267803</td>\n",
       "      <td>41.573241</td>\n",
       "      <td>13.043525</td>\n",
       "      <td>6.463381</td>\n",
       "      <td>6.168712</td>\n",
       "      <td>298.274432</td>\n",
       "      <td>50.013025</td>\n",
       "      <td>14.411482</td>\n",
       "      <td>6.659230</td>\n",
       "      <td>4.942250</td>\n",
       "      <td>...</td>\n",
       "      <td>24.822720</td>\n",
       "      <td>47.185918</td>\n",
       "      <td>93.619195</td>\n",
       "      <td>14.158489</td>\n",
       "      <td>15.217886</td>\n",
       "      <td>30.927407</td>\n",
       "      <td>77.324322</td>\n",
       "      <td>153.442359</td>\n",
       "      <td>213.780950</td>\n",
       "      <td>1</td>\n",
       "    </tr>\n",
       "    <tr>\n",
       "      <th>2</th>\n",
       "      <td>158.673907</td>\n",
       "      <td>31.788608</td>\n",
       "      <td>9.956198</td>\n",
       "      <td>3.736977</td>\n",
       "      <td>2.926979</td>\n",
       "      <td>232.762742</td>\n",
       "      <td>39.332981</td>\n",
       "      <td>10.956081</td>\n",
       "      <td>3.478036</td>\n",
       "      <td>2.153082</td>\n",
       "      <td>...</td>\n",
       "      <td>21.708222</td>\n",
       "      <td>47.412375</td>\n",
       "      <td>85.729645</td>\n",
       "      <td>9.493639</td>\n",
       "      <td>11.824569</td>\n",
       "      <td>24.555772</td>\n",
       "      <td>59.229187</td>\n",
       "      <td>112.406306</td>\n",
       "      <td>171.618208</td>\n",
       "      <td>1</td>\n",
       "    </tr>\n",
       "    <tr>\n",
       "      <th>3</th>\n",
       "      <td>29.767326</td>\n",
       "      <td>3.875543</td>\n",
       "      <td>1.553127</td>\n",
       "      <td>0.438266</td>\n",
       "      <td>0.140495</td>\n",
       "      <td>45.206547</td>\n",
       "      <td>5.173542</td>\n",
       "      <td>2.028637</td>\n",
       "      <td>0.528962</td>\n",
       "      <td>0.161283</td>\n",
       "      <td>...</td>\n",
       "      <td>26.319506</td>\n",
       "      <td>39.628894</td>\n",
       "      <td>51.473202</td>\n",
       "      <td>1.872515</td>\n",
       "      <td>5.392639</td>\n",
       "      <td>17.296780</td>\n",
       "      <td>35.824586</td>\n",
       "      <td>44.892899</td>\n",
       "      <td>79.613460</td>\n",
       "      <td>1</td>\n",
       "    </tr>\n",
       "    <tr>\n",
       "      <th>4</th>\n",
       "      <td>33.821075</td>\n",
       "      <td>3.635210</td>\n",
       "      <td>1.347280</td>\n",
       "      <td>0.313205</td>\n",
       "      <td>0.080396</td>\n",
       "      <td>55.670043</td>\n",
       "      <td>4.925017</td>\n",
       "      <td>1.783729</td>\n",
       "      <td>0.394463</td>\n",
       "      <td>0.102254</td>\n",
       "      <td>...</td>\n",
       "      <td>26.111048</td>\n",
       "      <td>39.177537</td>\n",
       "      <td>52.925676</td>\n",
       "      <td>1.408291</td>\n",
       "      <td>4.556997</td>\n",
       "      <td>12.733549</td>\n",
       "      <td>25.676801</td>\n",
       "      <td>44.406617</td>\n",
       "      <td>94.770581</td>\n",
       "      <td>1</td>\n",
       "    </tr>\n",
       "    <tr>\n",
       "      <th>...</th>\n",
       "      <td>...</td>\n",
       "      <td>...</td>\n",
       "      <td>...</td>\n",
       "      <td>...</td>\n",
       "      <td>...</td>\n",
       "      <td>...</td>\n",
       "      <td>...</td>\n",
       "      <td>...</td>\n",
       "      <td>...</td>\n",
       "      <td>...</td>\n",
       "      <td>...</td>\n",
       "      <td>...</td>\n",
       "      <td>...</td>\n",
       "      <td>...</td>\n",
       "      <td>...</td>\n",
       "      <td>...</td>\n",
       "      <td>...</td>\n",
       "      <td>...</td>\n",
       "      <td>...</td>\n",
       "      <td>...</td>\n",
       "      <td>...</td>\n",
       "    </tr>\n",
       "    <tr>\n",
       "      <th>2211</th>\n",
       "      <td>93.573012</td>\n",
       "      <td>9.060520</td>\n",
       "      <td>4.980545</td>\n",
       "      <td>4.839014</td>\n",
       "      <td>2.402408</td>\n",
       "      <td>103.479883</td>\n",
       "      <td>10.121498</td>\n",
       "      <td>5.411378</td>\n",
       "      <td>5.112091</td>\n",
       "      <td>2.410508</td>\n",
       "      <td>...</td>\n",
       "      <td>28.420439</td>\n",
       "      <td>35.838353</td>\n",
       "      <td>55.575530</td>\n",
       "      <td>13.980452</td>\n",
       "      <td>15.455901</td>\n",
       "      <td>17.599760</td>\n",
       "      <td>35.736742</td>\n",
       "      <td>44.639277</td>\n",
       "      <td>52.441626</td>\n",
       "      <td>0</td>\n",
       "    </tr>\n",
       "    <tr>\n",
       "      <th>2212</th>\n",
       "      <td>15.523587</td>\n",
       "      <td>3.195279</td>\n",
       "      <td>1.268068</td>\n",
       "      <td>0.788076</td>\n",
       "      <td>0.350012</td>\n",
       "      <td>15.177286</td>\n",
       "      <td>3.420879</td>\n",
       "      <td>1.324339</td>\n",
       "      <td>0.772379</td>\n",
       "      <td>0.340149</td>\n",
       "      <td>...</td>\n",
       "      <td>25.567858</td>\n",
       "      <td>29.982968</td>\n",
       "      <td>19.842641</td>\n",
       "      <td>3.896454</td>\n",
       "      <td>4.507998</td>\n",
       "      <td>9.674004</td>\n",
       "      <td>29.642064</td>\n",
       "      <td>32.178907</td>\n",
       "      <td>23.513508</td>\n",
       "      <td>0</td>\n",
       "    </tr>\n",
       "    <tr>\n",
       "      <th>2213</th>\n",
       "      <td>17.580684</td>\n",
       "      <td>2.208482</td>\n",
       "      <td>0.512273</td>\n",
       "      <td>0.122671</td>\n",
       "      <td>0.042173</td>\n",
       "      <td>18.294247</td>\n",
       "      <td>2.380609</td>\n",
       "      <td>0.560150</td>\n",
       "      <td>0.132999</td>\n",
       "      <td>0.045041</td>\n",
       "      <td>...</td>\n",
       "      <td>15.186601</td>\n",
       "      <td>23.281200</td>\n",
       "      <td>31.479138</td>\n",
       "      <td>1.183803</td>\n",
       "      <td>2.253192</td>\n",
       "      <td>6.133507</td>\n",
       "      <td>18.810084</td>\n",
       "      <td>29.451244</td>\n",
       "      <td>40.868567</td>\n",
       "      <td>0</td>\n",
       "    </tr>\n",
       "    <tr>\n",
       "      <th>2214</th>\n",
       "      <td>35.847315</td>\n",
       "      <td>3.354388</td>\n",
       "      <td>2.280252</td>\n",
       "      <td>2.368355</td>\n",
       "      <td>1.217081</td>\n",
       "      <td>33.889844</td>\n",
       "      <td>3.048972</td>\n",
       "      <td>1.356364</td>\n",
       "      <td>1.159790</td>\n",
       "      <td>0.632721</td>\n",
       "      <td>...</td>\n",
       "      <td>20.376012</td>\n",
       "      <td>23.182715</td>\n",
       "      <td>24.117538</td>\n",
       "      <td>6.995231</td>\n",
       "      <td>6.819144</td>\n",
       "      <td>9.820588</td>\n",
       "      <td>26.620415</td>\n",
       "      <td>30.167641</td>\n",
       "      <td>31.778504</td>\n",
       "      <td>0</td>\n",
       "    </tr>\n",
       "    <tr>\n",
       "      <th>2215</th>\n",
       "      <td>26.299626</td>\n",
       "      <td>2.783714</td>\n",
       "      <td>1.020452</td>\n",
       "      <td>0.693122</td>\n",
       "      <td>0.328914</td>\n",
       "      <td>26.055785</td>\n",
       "      <td>2.918337</td>\n",
       "      <td>0.944078</td>\n",
       "      <td>0.491128</td>\n",
       "      <td>0.199761</td>\n",
       "      <td>...</td>\n",
       "      <td>21.973431</td>\n",
       "      <td>24.301343</td>\n",
       "      <td>21.518677</td>\n",
       "      <td>2.351333</td>\n",
       "      <td>3.269492</td>\n",
       "      <td>7.700107</td>\n",
       "      <td>25.207972</td>\n",
       "      <td>28.056602</td>\n",
       "      <td>37.080093</td>\n",
       "      <td>0</td>\n",
       "    </tr>\n",
       "  </tbody>\n",
       "</table>\n",
       "<p>2216 rows × 668 columns</p>\n",
       "</div>"
      ],
      "text/plain": [
       "      FP1_power_delta  FP1_power_theta  FP1_power_alpha  FP1_power_beta  \\\n",
       "0           15.980332         8.633358         3.092433        0.846559   \n",
       "1          223.267803        41.573241        13.043525        6.463381   \n",
       "2          158.673907        31.788608         9.956198        3.736977   \n",
       "3           29.767326         3.875543         1.553127        0.438266   \n",
       "4           33.821075         3.635210         1.347280        0.313205   \n",
       "...               ...              ...              ...             ...   \n",
       "2211        93.573012         9.060520         4.980545        4.839014   \n",
       "2212        15.523587         3.195279         1.268068        0.788076   \n",
       "2213        17.580684         2.208482         0.512273        0.122671   \n",
       "2214        35.847315         3.354388         2.280252        2.368355   \n",
       "2215        26.299626         2.783714         1.020452        0.693122   \n",
       "\n",
       "      FP1_power_gamma  FP2_power_delta  FP2_power_theta  FP2_power_alpha  \\\n",
       "0            0.372832        17.581626         9.937238         3.485713   \n",
       "1            6.168712       298.274432        50.013025        14.411482   \n",
       "2            2.926979       232.762742        39.332981        10.956081   \n",
       "3            0.140495        45.206547         5.173542         2.028637   \n",
       "4            0.080396        55.670043         4.925017         1.783729   \n",
       "...               ...              ...              ...              ...   \n",
       "2211         2.402408       103.479883        10.121498         5.411378   \n",
       "2212         0.350012        15.177286         3.420879         1.324339   \n",
       "2213         0.042173        18.294247         2.380609         0.560150   \n",
       "2214         1.217081        33.889844         3.048972         1.356364   \n",
       "2215         0.328914        26.055785         2.918337         0.944078   \n",
       "\n",
       "      FP2_power_beta  FP2_power_gamma  ...  T5_STD_D4  T5_STD_D5  T5_STD_D6  \\\n",
       "0           0.945396         0.428797  ...  31.427918  29.699413  32.013546   \n",
       "1           6.659230         4.942250  ...  24.822720  47.185918  93.619195   \n",
       "2           3.478036         2.153082  ...  21.708222  47.412375  85.729645   \n",
       "3           0.528962         0.161283  ...  26.319506  39.628894  51.473202   \n",
       "4           0.394463         0.102254  ...  26.111048  39.177537  52.925676   \n",
       "...              ...              ...  ...        ...        ...        ...   \n",
       "2211        5.112091         2.410508  ...  28.420439  35.838353  55.575530   \n",
       "2212        0.772379         0.340149  ...  25.567858  29.982968  19.842641   \n",
       "2213        0.132999         0.045041  ...  15.186601  23.281200  31.479138   \n",
       "2214        1.159790         0.632721  ...  20.376012  23.182715  24.117538   \n",
       "2215        0.491128         0.199761  ...  21.973431  24.301343  21.518677   \n",
       "\n",
       "      T6_STD_D1  T6_STD_D2  T6_STD_D3  T6_STD_D4   T6_STD_D5   T6_STD_D6  \\\n",
       "0      3.583559  12.529528  45.831132  61.890813   34.783454   33.245906   \n",
       "1     14.158489  15.217886  30.927407  77.324322  153.442359  213.780950   \n",
       "2      9.493639  11.824569  24.555772  59.229187  112.406306  171.618208   \n",
       "3      1.872515   5.392639  17.296780  35.824586   44.892899   79.613460   \n",
       "4      1.408291   4.556997  12.733549  25.676801   44.406617   94.770581   \n",
       "...         ...        ...        ...        ...         ...         ...   \n",
       "2211  13.980452  15.455901  17.599760  35.736742   44.639277   52.441626   \n",
       "2212   3.896454   4.507998   9.674004  29.642064   32.178907   23.513508   \n",
       "2213   1.183803   2.253192   6.133507  18.810084   29.451244   40.868567   \n",
       "2214   6.995231   6.819144   9.820588  26.620415   30.167641   31.778504   \n",
       "2215   2.351333   3.269492   7.700107  25.207972   28.056602   37.080093   \n",
       "\n",
       "      epileptic_  \n",
       "0              1  \n",
       "1              1  \n",
       "2              1  \n",
       "3              1  \n",
       "4              1  \n",
       "...          ...  \n",
       "2211           0  \n",
       "2212           0  \n",
       "2213           0  \n",
       "2214           0  \n",
       "2215           0  \n",
       "\n",
       "[2216 rows x 668 columns]"
      ]
     },
     "execution_count": 85,
     "metadata": {},
     "output_type": "execute_result"
    }
   ],
   "source": [
    "import numpy as np\n",
    "import pandas as pd\n",
    "from sklearn.model_selection import train_test_split\n",
    "from sklearn.metrics import confusion_matrix,precision_score,recall_score,f1_score,accuracy_score\n",
    "from sklearn.feature_selection import SelectKBest\n",
    "from sklearn.feature_selection import mutual_info_classif\n",
    "\n",
    "df=pd.read_csv(\"C:/Users/jyoth/Downloads/eegdatset.csv\")\n",
    "df"
   ]
  },
  {
   "cell_type": "code",
   "execution_count": 86,
   "id": "34eaf1dc",
   "metadata": {},
   "outputs": [
    {
     "data": {
      "text/plain": [
       "0    1196\n",
       "1    1020\n",
       "Name: epileptic_, dtype: int64"
      ]
     },
     "execution_count": 86,
     "metadata": {},
     "output_type": "execute_result"
    }
   ],
   "source": [
    "df['epileptic_'].value_counts()"
   ]
  },
  {
   "cell_type": "code",
   "execution_count": 87,
   "id": "dc72b73f",
   "metadata": {},
   "outputs": [
    {
     "data": {
      "text/plain": [
       "Index(['FP1_power_delta', 'FP1_power_theta', 'FP1_power_alpha',\n",
       "       'FP1_power_beta', 'FP1_power_gamma', 'FP2_power_delta',\n",
       "       'FP2_power_theta', 'FP2_power_alpha', 'FP2_power_beta',\n",
       "       'FP2_power_gamma',\n",
       "       ...\n",
       "       'T5_STD_D4', 'T5_STD_D5', 'T5_STD_D6', 'T6_STD_D1', 'T6_STD_D2',\n",
       "       'T6_STD_D3', 'T6_STD_D4', 'T6_STD_D5', 'T6_STD_D6', 'epileptic_'],\n",
       "      dtype='object', length=668)"
      ]
     },
     "execution_count": 87,
     "metadata": {},
     "output_type": "execute_result"
    }
   ],
   "source": [
    "df.columns"
   ]
  },
  {
   "cell_type": "code",
   "execution_count": 88,
   "id": "bbce8566",
   "metadata": {},
   "outputs": [
    {
     "data": {
      "text/plain": [
       "(2216, 668)"
      ]
     },
     "execution_count": 88,
     "metadata": {},
     "output_type": "execute_result"
    }
   ],
   "source": [
    "df.shape"
   ]
  },
  {
   "cell_type": "code",
   "execution_count": 89,
   "id": "89976511",
   "metadata": {},
   "outputs": [
    {
     "data": {
      "text/plain": [
       "FP1_power_delta    0\n",
       "FP1_power_theta    0\n",
       "FP1_power_alpha    0\n",
       "FP1_power_beta     0\n",
       "FP1_power_gamma    0\n",
       "                  ..\n",
       "T6_STD_D3          0\n",
       "T6_STD_D4          0\n",
       "T6_STD_D5          0\n",
       "T6_STD_D6          0\n",
       "epileptic_         0\n",
       "Length: 668, dtype: int64"
      ]
     },
     "execution_count": 89,
     "metadata": {},
     "output_type": "execute_result"
    }
   ],
   "source": [
    "df.isnull().sum()"
   ]
  },
  {
   "cell_type": "code",
   "execution_count": 90,
   "id": "d2198739",
   "metadata": {},
   "outputs": [
    {
     "data": {
      "text/plain": [
       "0"
      ]
     },
     "execution_count": 90,
     "metadata": {},
     "output_type": "execute_result"
    }
   ],
   "source": [
    "df.isnull().sum().sum()"
   ]
  },
  {
   "cell_type": "code",
   "execution_count": 91,
   "id": "af0c44dc",
   "metadata": {},
   "outputs": [],
   "source": [
    "X=df.iloc[:,:-1]\n",
    "y=df.iloc[:,-1]"
   ]
  },
  {
   "cell_type": "code",
   "execution_count": 92,
   "id": "1ae9e8c9",
   "metadata": {},
   "outputs": [
    {
     "data": {
      "text/plain": [
       "(2216, 667)"
      ]
     },
     "execution_count": 92,
     "metadata": {},
     "output_type": "execute_result"
    }
   ],
   "source": [
    "X.shape"
   ]
  },
  {
   "cell_type": "code",
   "execution_count": 93,
   "id": "5ce0d2bc",
   "metadata": {},
   "outputs": [
    {
     "data": {
      "text/plain": [
       "(2216,)"
      ]
     },
     "execution_count": 93,
     "metadata": {},
     "output_type": "execute_result"
    }
   ],
   "source": [
    "y.shape"
   ]
  },
  {
   "cell_type": "code",
   "execution_count": 94,
   "id": "0a63a819",
   "metadata": {},
   "outputs": [],
   "source": [
    "X_train,X_test,y_train,y_test=train_test_split(X,y,train_size=0.7,random_state=0)"
   ]
  },
  {
   "cell_type": "code",
   "execution_count": 95,
   "id": "e4a0b603",
   "metadata": {},
   "outputs": [
    {
     "data": {
      "text/plain": [
       "(1551, 667)"
      ]
     },
     "execution_count": 95,
     "metadata": {},
     "output_type": "execute_result"
    }
   ],
   "source": [
    "X_train.shape"
   ]
  },
  {
   "cell_type": "code",
   "execution_count": 96,
   "id": "183cb274",
   "metadata": {},
   "outputs": [
    {
     "data": {
      "text/plain": [
       "(1551,)"
      ]
     },
     "execution_count": 96,
     "metadata": {},
     "output_type": "execute_result"
    }
   ],
   "source": [
    "y_train.shape"
   ]
  },
  {
   "cell_type": "code",
   "execution_count": 97,
   "id": "b9c443b8",
   "metadata": {},
   "outputs": [
    {
     "data": {
      "text/plain": [
       "(665, 667)"
      ]
     },
     "execution_count": 97,
     "metadata": {},
     "output_type": "execute_result"
    }
   ],
   "source": [
    "X_test.shape"
   ]
  },
  {
   "cell_type": "code",
   "execution_count": 98,
   "id": "f1bdc373",
   "metadata": {},
   "outputs": [
    {
     "data": {
      "text/plain": [
       "(665,)"
      ]
     },
     "execution_count": 98,
     "metadata": {},
     "output_type": "execute_result"
    }
   ],
   "source": [
    "y_test.shape"
   ]
  },
  {
   "cell_type": "markdown",
   "id": "e7732287",
   "metadata": {},
   "source": [
    "# STANDARDIZING"
   ]
  },
  {
   "cell_type": "code",
   "execution_count": 99,
   "id": "f229028f",
   "metadata": {},
   "outputs": [],
   "source": [
    "from sklearn.preprocessing import StandardScaler\n",
    "st=StandardScaler()\n",
    "X_train2=st.fit_transform(X_train)\n",
    "X_test2=st.transform(X_test)"
   ]
  },
  {
   "cell_type": "markdown",
   "id": "9bcd8730",
   "metadata": {},
   "source": [
    "# KNN "
   ]
  },
  {
   "cell_type": "code",
   "execution_count": 100,
   "id": "29362a69",
   "metadata": {},
   "outputs": [],
   "source": [
    "from sklearn.neighbors import KNeighborsClassifier\n",
    "model = KNeighborsClassifier(n_neighbors=100)\n",
    "\n",
    "KNN_fit = model.fit(X_train,y_train)\n",
    "y_pred = KNN_fit.predict(X_test)\n",
    "\n",
    "acc_score=accuracy_score(y_test,y_pred)\n",
    "pre_score = precision_score(y_test,y_pred)\n",
    "recall = recall_score(y_test,y_pred)\n",
    "f1 = f1_score(y_test,y_pred)"
   ]
  },
  {
   "cell_type": "code",
   "execution_count": 101,
   "id": "c42f7217",
   "metadata": {},
   "outputs": [
    {
     "name": "stdout",
     "output_type": "stream",
     "text": [
      "Confusion matrix : \n",
      " [[269  87]\n",
      " [103 206]]\n",
      "Accuracy : 71.43%\n",
      "Precision : 70.31%\n",
      "Recall : 66.67%\n",
      "f1_score : 68.44%\n"
     ]
    }
   ],
   "source": [
    "print(\"Confusion matrix : \\n\",confusion_matrix(y_test,y_pred, labels=[0,1]))\n",
    "print(f'Accuracy : {round(acc_score*100,2)}%')\n",
    "print(f'Precision : {round((pre_score)*100,2)}%')\n",
    "print(f'Recall : {round((recall)*100,2)}%')\n",
    "print(f'f1_score : {round((f1)*100,2)}%')"
   ]
  },
  {
   "cell_type": "code",
   "execution_count": 102,
   "id": "533f6874",
   "metadata": {},
   "outputs": [],
   "source": [
    "KNN_fit2 = model.fit(X_train2,y_train)\n",
    "y_pred2 = KNN_fit2.predict(X_test2)"
   ]
  },
  {
   "cell_type": "code",
   "execution_count": 103,
   "id": "bbfae8e6",
   "metadata": {},
   "outputs": [],
   "source": [
    "acc_score=accuracy_score(y_test,y_pred2)\n",
    "pre_score = precision_score(y_test,y_pred2)\n",
    "recall = recall_score(y_test,y_pred2)\n",
    "f1 = f1_score(y_test,y_pred2)"
   ]
  },
  {
   "cell_type": "code",
   "execution_count": 104,
   "id": "c544417b",
   "metadata": {},
   "outputs": [
    {
     "name": "stdout",
     "output_type": "stream",
     "text": [
      "Confusion matrix : \n",
      " [[248 108]\n",
      " [124 185]]\n",
      "Accuracy : 65.11%\n",
      "Precision : 63.14%\n",
      "Recall : 59.87%\n",
      "f1_score : 61.46%\n"
     ]
    }
   ],
   "source": [
    "print(\"Confusion matrix : \\n\",confusion_matrix(y_test,y_pred2, labels=[0,1]))\n",
    "print(f'Accuracy : {round(acc_score*100,2)}%')\n",
    "print(f'Precision : {round((pre_score)*100,2)}%')\n",
    "print(f'Recall : {round((recall)*100,2)}%')\n",
    "print(f'f1_score : {round((f1)*100,2)}%')"
   ]
  },
  {
   "cell_type": "markdown",
   "id": "28880de5",
   "metadata": {},
   "source": [
    "# DECISION TREE"
   ]
  },
  {
   "cell_type": "code",
   "execution_count": 105,
   "id": "0cd61dfd",
   "metadata": {},
   "outputs": [],
   "source": [
    "from sklearn.tree import DecisionTreeClassifier\n",
    "model1 = DecisionTreeClassifier(criterion = 'entropy')\n",
    "\n",
    "dt_fit = model1.fit(X_train,y_train)\n",
    "y_pred = dt_fit.predict(X_test)\n",
    "\n",
    "acc_score=accuracy_score(y_test,y_pred)\n",
    "pre_score = precision_score(y_test,y_pred)\n",
    "recall = recall_score(y_test,y_pred)\n",
    "f1 = f1_score(y_test,y_pred)"
   ]
  },
  {
   "cell_type": "code",
   "execution_count": 106,
   "id": "c067144a",
   "metadata": {},
   "outputs": [
    {
     "name": "stdout",
     "output_type": "stream",
     "text": [
      "Confusion matrix : \n",
      " [[274  82]\n",
      " [ 80 229]]\n",
      "Accuracy : 75.64%\n",
      "Precision : 73.63%\n",
      "Recall : 74.11%\n",
      "f1_score : 73.87%\n"
     ]
    }
   ],
   "source": [
    "print(\"Confusion matrix : \\n\",confusion_matrix(y_test,y_pred, labels=[0,1]))\n",
    "print(f'Accuracy : {round(acc_score*100,2)}%')\n",
    "print(f'Precision : {round((pre_score)*100,2)}%')\n",
    "print(f'Recall : {round((recall)*100,2)}%')\n",
    "print(f'f1_score : {round((f1)*100,2)}%')"
   ]
  },
  {
   "cell_type": "code",
   "execution_count": 107,
   "id": "2334071b",
   "metadata": {},
   "outputs": [],
   "source": [
    "dt_fit2 = model1.fit(X_train2,y_train)\n",
    "y_pred2 = dt_fit2.predict(X_test2)"
   ]
  },
  {
   "cell_type": "code",
   "execution_count": 108,
   "id": "98845852",
   "metadata": {},
   "outputs": [],
   "source": [
    "acc_score=accuracy_score(y_test,y_pred2)\n",
    "pre_score = precision_score(y_test,y_pred2)\n",
    "recall = recall_score(y_test,y_pred2)\n",
    "f1 = f1_score(y_test,y_pred2)"
   ]
  },
  {
   "cell_type": "code",
   "execution_count": 109,
   "id": "9cc21a69",
   "metadata": {},
   "outputs": [
    {
     "name": "stdout",
     "output_type": "stream",
     "text": [
      "Confusion matrix : \n",
      " [[271  85]\n",
      " [ 70 239]]\n",
      "Accuracy : 76.69%\n",
      "Precision : 73.77%\n",
      "Recall : 77.35%\n",
      "f1_score : 75.51%\n"
     ]
    }
   ],
   "source": [
    "print(\"Confusion matrix : \\n\",confusion_matrix(y_test,y_pred2, labels=[0,1]))\n",
    "print(f'Accuracy : {round(acc_score*100,2)}%')\n",
    "print(f'Precision : {round((pre_score)*100,2)}%')\n",
    "print(f'Recall : {round((recall)*100,2)}%')\n",
    "print(f'f1_score : {round((f1)*100,2)}%')"
   ]
  },
  {
   "cell_type": "markdown",
   "id": "c0a4b36e",
   "metadata": {},
   "source": [
    "# LOGISTIC REGRESSION"
   ]
  },
  {
   "cell_type": "code",
   "execution_count": 110,
   "id": "cc649559",
   "metadata": {},
   "outputs": [],
   "source": [
    "from sklearn.linear_model import LogisticRegression\n",
    "model2 = LogisticRegression()\n",
    "import warnings\n",
    "warnings.filterwarnings(\"ignore\")\n",
    "\n",
    "lr_fit = model2.fit(X_train,y_train)\n",
    "y_pred = lr_fit.predict(X_test)\n",
    "\n",
    "acc_score=accuracy_score(y_test,y_pred)\n",
    "pre_score = precision_score(y_test,y_pred)\n",
    "recall = recall_score(y_test,y_pred)\n",
    "f1 = f1_score(y_test,y_pred)"
   ]
  },
  {
   "cell_type": "code",
   "execution_count": 111,
   "id": "fb4c928f",
   "metadata": {},
   "outputs": [
    {
     "name": "stdout",
     "output_type": "stream",
     "text": [
      "Confusion matrix : \n",
      " [[131 225]\n",
      " [ 23 286]]\n",
      "Accuracy : 62.71%\n",
      "Precision : 55.97%\n",
      "Recall : 92.56%\n",
      "f1_score : 69.76%\n"
     ]
    }
   ],
   "source": [
    "print(\"Confusion matrix : \\n\",confusion_matrix(y_test,y_pred, labels=[0,1]))\n",
    "print(f'Accuracy : {round(acc_score*100,2)}%')\n",
    "print(f'Precision : {round((pre_score)*100,2)}%')\n",
    "print(f'Recall : {round((recall)*100,2)}%')\n",
    "print(f'f1_score : {round((f1)*100,2)}%')"
   ]
  },
  {
   "cell_type": "code",
   "execution_count": 112,
   "id": "776ea98f",
   "metadata": {},
   "outputs": [],
   "source": [
    "lr_fit2 = model2.fit(X_train2,y_train)\n",
    "y_pred2 = lr_fit2.predict(X_test2)"
   ]
  },
  {
   "cell_type": "code",
   "execution_count": 113,
   "id": "30fc47b2",
   "metadata": {},
   "outputs": [],
   "source": [
    "acc_score=accuracy_score(y_test,y_pred2)\n",
    "pre_score = precision_score(y_test,y_pred2)\n",
    "recall = recall_score(y_test,y_pred2)\n",
    "f1 = f1_score(y_test,y_pred2)"
   ]
  },
  {
   "cell_type": "code",
   "execution_count": 114,
   "id": "48307062",
   "metadata": {},
   "outputs": [
    {
     "name": "stdout",
     "output_type": "stream",
     "text": [
      "Confusion matrix : \n",
      " [[131 225]\n",
      " [ 23 286]]\n",
      "Accuracy : 78.05%\n",
      "Precision : 76.9%\n",
      "Recall : 75.4%\n",
      "f1_score : 76.14%\n"
     ]
    }
   ],
   "source": [
    "print(\"Confusion matrix : \\n\",confusion_matrix(y_test,y_pred, labels=[0,1]))\n",
    "print(f'Accuracy : {round(acc_score*100,2)}%')\n",
    "print(f'Precision : {round((pre_score)*100,2)}%')\n",
    "print(f'Recall : {round((recall)*100,2)}%')\n",
    "print(f'f1_score : {round((f1)*100,2)}%')"
   ]
  },
  {
   "cell_type": "markdown",
   "id": "67d69502",
   "metadata": {},
   "source": [
    "# SVM"
   ]
  },
  {
   "cell_type": "code",
   "execution_count": 115,
   "id": "7f7a0c8b",
   "metadata": {},
   "outputs": [],
   "source": [
    "from sklearn import svm\n",
    "model4 = svm.SVC()\n",
    "\n",
    "sv_fit = model4.fit(X_train,y_train)\n",
    "y_pred = sv_fit.predict(X_test)\n",
    "\n",
    "acc_score=accuracy_score(y_test,y_pred)\n",
    "pre_score = precision_score(y_test,y_pred)\n",
    "recall = recall_score(y_test,y_pred)\n",
    "f1 = f1_score(y_test,y_pred)"
   ]
  },
  {
   "cell_type": "code",
   "execution_count": 116,
   "id": "c7c68706",
   "metadata": {},
   "outputs": [
    {
     "name": "stdout",
     "output_type": "stream",
     "text": [
      "Confusion matrix : \n",
      " [[346  10]\n",
      " [292  17]]\n",
      "Accuracy : 54.59%\n",
      "Precision : 62.96%\n",
      "Recall : 5.5%\n",
      "f1_score : 10.12%\n"
     ]
    }
   ],
   "source": [
    "print(\"Confusion matrix : \\n\",confusion_matrix(y_test,y_pred, labels=[0,1]))\n",
    "print(f'Accuracy : {round(acc_score*100,2)}%')\n",
    "print(f'Precision : {round((pre_score)*100,2)}%')\n",
    "print(f'Recall : {round((recall)*100,2)}%')\n",
    "print(f'f1_score : {round((f1)*100,2)}%')"
   ]
  },
  {
   "cell_type": "code",
   "execution_count": 117,
   "id": "c83f537d",
   "metadata": {},
   "outputs": [],
   "source": [
    "from sklearn.svm import SVC\n",
    "model5=SVC(kernel='linear')\n",
    "\n",
    "sv_fitt = model5.fit(X_train,y_train)\n",
    "y_pred = sv_fitt.predict(X_test)\n",
    "\n",
    "acc_score=accuracy_score(y_test,y_pred)\n",
    "pre_score = precision_score(y_test,y_pred)\n",
    "recall = recall_score(y_test,y_pred)\n",
    "f1 = f1_score(y_test,y_pred)"
   ]
  },
  {
   "cell_type": "code",
   "execution_count": 118,
   "id": "41c44468",
   "metadata": {},
   "outputs": [
    {
     "name": "stdout",
     "output_type": "stream",
     "text": [
      "Confusion matrix : \n",
      " [[248 108]\n",
      " [ 70 239]]\n",
      "Accuracy : 73.23%\n",
      "Precision : 68.88%\n",
      "Recall : 77.35%\n",
      "f1_score : 72.87%\n"
     ]
    }
   ],
   "source": [
    "print(\"Confusion matrix : \\n\",confusion_matrix(y_test,y_pred, labels=[0,1]))\n",
    "print(f'Accuracy : {round(acc_score*100,2)}%')\n",
    "print(f'Precision : {round((pre_score)*100,2)}%')\n",
    "print(f'Recall : {round((recall)*100,2)}%')\n",
    "print(f'f1_score : {round((f1)*100,2)}%')"
   ]
  },
  {
   "cell_type": "code",
   "execution_count": 119,
   "id": "d1f0e303",
   "metadata": {},
   "outputs": [],
   "source": [
    "sv_fitt2 = model5.fit(X_train2,y_train)\n",
    "y_pred2 = sv_fitt2.predict(X_test2)"
   ]
  },
  {
   "cell_type": "code",
   "execution_count": 120,
   "id": "31f47ff1",
   "metadata": {},
   "outputs": [],
   "source": [
    "acc_score=accuracy_score(y_test,y_pred2)\n",
    "pre_score = precision_score(y_test,y_pred2)\n",
    "recall = recall_score(y_test,y_pred2)\n",
    "f1 = f1_score(y_test,y_pred2)"
   ]
  },
  {
   "cell_type": "code",
   "execution_count": 121,
   "id": "01acb837",
   "metadata": {},
   "outputs": [
    {
     "name": "stdout",
     "output_type": "stream",
     "text": [
      "Confusion matrix : \n",
      " [[279  77]\n",
      " [ 77 232]]\n",
      "Accuracy : 76.84%\n",
      "Precision : 75.08%\n",
      "Recall : 75.08%\n",
      "f1_score : 75.08%\n"
     ]
    }
   ],
   "source": [
    "print(\"Confusion matrix : \\n\",confusion_matrix(y_test,y_pred2, labels=[0,1]))\n",
    "print(f'Accuracy : {round(acc_score*100,2)}%')\n",
    "print(f'Precision : {round((pre_score)*100,2)}%')\n",
    "print(f'Recall : {round((recall)*100,2)}%')\n",
    "print(f'f1_score : {round((f1)*100,2)}%')"
   ]
  },
  {
   "cell_type": "markdown",
   "id": "91867e34",
   "metadata": {},
   "source": [
    "# RANDOM FOREST"
   ]
  },
  {
   "cell_type": "code",
   "execution_count": 72,
   "id": "b4e5b236",
   "metadata": {},
   "outputs": [],
   "source": [
    "from sklearn.ensemble import RandomForestClassifier\n",
    "model3 = RandomForestClassifier(n_estimators=400)\n",
    "\n",
    "rf_fit = model3.fit(X_train,y_train)\n",
    "y_pred = rf_fit.predict(X_test)\n",
    "\n",
    "acc_score=accuracy_score(y_test,y_pred)\n",
    "pre_score = precision_score(y_test,y_pred)\n",
    "recall = recall_score(y_test,y_pred)\n",
    "f1 = f1_score(y_test,y_pred)"
   ]
  },
  {
   "cell_type": "code",
   "execution_count": 50,
   "id": "9df0ba73",
   "metadata": {},
   "outputs": [
    {
     "name": "stdout",
     "output_type": "stream",
     "text": [
      "Confusion matrix : \n",
      " [[286  70]\n",
      " [ 76 233]]\n",
      "Accuracy : 78.05%\n",
      "Precision : 76.9%\n",
      "Recall : 75.4%\n",
      "f1_score : 76.14%\n"
     ]
    }
   ],
   "source": [
    "print(\"Confusion matrix : \\n\",confusion_matrix(y_test,y_pred2, labels=[0,1]))\n",
    "print(f'Accuracy : {round(acc_score*100,2)}%')\n",
    "print(f'Precision : {round((pre_score)*100,2)}%')\n",
    "print(f'Recall : {round((recall)*100,2)}%')\n",
    "print(f'f1_score : {round((f1)*100,2)}%')"
   ]
  },
  {
   "cell_type": "code",
   "execution_count": 74,
   "id": "4335f420",
   "metadata": {},
   "outputs": [],
   "source": [
    "rf_fit2 = model3.fit(X_train2,y_train)\n",
    "y_pred2 = rf_fit2.predict(X_test2)"
   ]
  },
  {
   "cell_type": "code",
   "execution_count": 75,
   "id": "024c8ac5",
   "metadata": {},
   "outputs": [],
   "source": [
    "acc_score=accuracy_score(y_test,y_pred2)\n",
    "pre_score = precision_score(y_test,y_pred2)\n",
    "recall = recall_score(y_test,y_pred2)\n",
    "f1 = f1_score(y_test,y_pred2)"
   ]
  },
  {
   "cell_type": "code",
   "execution_count": 76,
   "id": "b832d712",
   "metadata": {},
   "outputs": [
    {
     "name": "stdout",
     "output_type": "stream",
     "text": [
      "Confusion matrix : \n",
      " [[306  50]\n",
      " [ 56 253]]\n",
      "Accuracy : 84.06%\n",
      "Precision : 83.5%\n",
      "Recall : 81.88%\n",
      "f1_score : 82.68%\n"
     ]
    }
   ],
   "source": [
    "print(\"Confusion matrix : \\n\",confusion_matrix(y_test,y_pred2, labels=[0,1]))\n",
    "print(f'Accuracy : {round(acc_score*100,2)}%')\n",
    "print(f'Precision : {round((pre_score)*100,2)}%')\n",
    "print(f'Recall : {round((recall)*100,2)}%')\n",
    "print(f'f1_score : {round((f1)*100,2)}%')"
   ]
  },
  {
   "cell_type": "code",
   "execution_count": 63,
   "id": "2bd5feee",
   "metadata": {},
   "outputs": [],
   "source": [
    "from sklearn.ensemble import GradientBoostingClassifier, RandomForestClassifier, AdaBoostClassifier ,VotingClassifier\n",
    "from sklearn.metrics import accuracy_score"
   ]
  },
  {
   "cell_type": "code",
   "execution_count": 66,
   "id": "ee6f5411",
   "metadata": {},
   "outputs": [
    {
     "name": "stdout",
     "output_type": "stream",
     "text": [
      "Gradient Boosting Accuracy: 0.8466165413533835\n"
     ]
    }
   ],
   "source": [
    "gb_classifier = GradientBoostingClassifier(n_estimators=400)\n",
    "gb_classifier.fit(X_train, y_train)\n",
    "gb_predictions = gb_classifier.predict(X_test)\n",
    "gb_accuracy = accuracy_score(y_test, gb_predictions)\n",
    "print(\"Gradient Boosting Accuracy:\", gb_accuracy)"
   ]
  },
  {
   "cell_type": "code",
   "execution_count": 80,
   "id": "2ad18ea8",
   "metadata": {},
   "outputs": [
    {
     "name": "stdout",
     "output_type": "stream",
     "text": [
      "AdaBoost Accuracy: 0.8210526315789474\n",
      "AdaBoost Accuracy: 0.8285714285714286\n",
      "AdaBoost Accuracy: 0.7879699248120301\n",
      "AdaBoost Accuracy: 0.7864661654135339\n",
      "AdaBoost Accuracy: 0.793984962406015\n",
      "AdaBoost Accuracy: 0.7819548872180451\n",
      "AdaBoost Accuracy: 0.8\n",
      "AdaBoost Accuracy: 0.7954887218045112\n",
      "AdaBoost Accuracy: 0.8045112781954887\n",
      "AdaBoost Accuracy: 0.793984962406015\n"
     ]
    }
   ],
   "source": [
    "for i in range(1,11):\n",
    "    base = DecisionTreeClassifier(max_depth=i)\n",
    "\n",
    "    ab_classifier = AdaBoostClassifier(base_estimator=base)\n",
    "    ab_classifier.fit(X_train, y_train)\n",
    "    ab_predictions = ab_classifier.predict(X_test)\n",
    "    ab_accuracy = accuracy_score(y_test, ab_predictions)\n",
    "    print(\"AdaBoost Accuracy:\", ab_accuracy)"
   ]
  },
  {
   "cell_type": "code",
   "execution_count": 83,
   "id": "d96428e2",
   "metadata": {},
   "outputs": [
    {
     "name": "stdout",
     "output_type": "stream",
     "text": [
      "AdaBoost Accuracy: 0.750375939849624\n",
      "AdaBoost Accuracy: 0.8210526315789474\n",
      "AdaBoost Accuracy: 0.8210526315789474\n",
      "AdaBoost Accuracy: 0.8300751879699249\n",
      "AdaBoost Accuracy: 0.8285714285714286\n"
     ]
    }
   ],
   "source": [
    "n_trees = [10, 50, 100, 500, 1000]\n",
    "for n in n_trees:\n",
    "    ab_classifier = AdaBoostClassifier(n_estimators=n)\n",
    "    ab_classifier.fit(X_train, y_train)\n",
    "    ab_predictions = ab_classifier.predict(X_test)\n",
    "    ab_accuracy = accuracy_score(y_test, ab_predictions)\n",
    "    print(\"AdaBoost Accuracy:\", ab_accuracy)"
   ]
  }
 ],
 "metadata": {
  "kernelspec": {
   "display_name": "Python 3 (ipykernel)",
   "language": "python",
   "name": "python3"
  },
  "language_info": {
   "codemirror_mode": {
    "name": "ipython",
    "version": 3
   },
   "file_extension": ".py",
   "mimetype": "text/x-python",
   "name": "python",
   "nbconvert_exporter": "python",
   "pygments_lexer": "ipython3",
   "version": "3.9.12"
  }
 },
 "nbformat": 4,
 "nbformat_minor": 5
}
